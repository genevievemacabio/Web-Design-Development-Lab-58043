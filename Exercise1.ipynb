{
  "nbformat": 4,
  "nbformat_minor": 0,
  "metadata": {
    "colab": {
      "name": "Exercise1.ipynb",
      "provenance": [],
      "authorship_tag": "ABX9TyMgGVkbEQTBerDZdTuI0pVK",
      "include_colab_link": true
    },
    "kernelspec": {
      "name": "python3",
      "display_name": "Python 3"
    },
    "language_info": {
      "name": "python"
    }
  },
  "cells": [
    {
      "cell_type": "markdown",
      "metadata": {
        "id": "view-in-github",
        "colab_type": "text"
      },
      "source": [
        "<a href=\"https://colab.research.google.com/github/genevievemacabio/Web-Design-Development-Lab-58043/blob/main/Exercise1.ipynb\" target=\"_parent\"><img src=\"https://colab.research.google.com/assets/colab-badge.svg\" alt=\"Open In Colab\"/></a>"
      ]
    },
    {
      "cell_type": "markdown",
      "source": [
        "**Program that computes the area of a circle**"
      ],
      "metadata": {
        "id": "saFFSQWgmoAg"
      }
    },
    {
      "cell_type": "code",
      "execution_count": 2,
      "metadata": {
        "colab": {
          "base_uri": "https://localhost:8080/"
        },
        "id": "1205JXLUmOKw",
        "outputId": "c303528b-f71d-4db0-890c-b429d03c2fc3"
      },
      "outputs": [
        {
          "output_type": "stream",
          "name": "stdout",
          "text": [
            "Enter the radius of a circle:20\n",
            "Area of a circle = 1256.00\n"
          ]
        }
      ],
      "source": [
        "PI = 3.14\n",
        "r = float(input(\"Enter the radius of a circle:\"))\n",
        "Area = PI * r * r\n",
        "print(\"Area of a circle = %.2f\" %Area)"
      ]
    }
  ]
}